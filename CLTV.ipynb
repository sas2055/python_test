{
 "cells": [
  {
   "cell_type": "markdown",
   "id": "545f8e6c",
   "metadata": {},
   "source": [
    "## Calculate the Customer Life Time Value (CLTV) Using 2 Different methods\n",
    "\n",
    " 1. RFM Method\n",
    " 2. Predictive Modelling"
   ]
  },
  {
   "cell_type": "markdown",
   "id": "ca2e9654",
   "metadata": {},
   "source": [
    "## Import All Required Libraries"
   ]
  },
  {
   "cell_type": "code",
   "execution_count": 1,
   "id": "b63204c6",
   "metadata": {},
   "outputs": [],
   "source": [
    "import numpy as np\n",
    "import pandas as pd"
   ]
  },
  {
   "cell_type": "markdown",
   "id": "f573c8ca",
   "metadata": {},
   "source": [
    "## Load the customer purchase data"
   ]
  },
  {
   "cell_type": "code",
   "execution_count": 2,
   "id": "1e26d3bf",
   "metadata": {},
   "outputs": [
    {
     "data": {
      "text/html": [
       "<div>\n",
       "<style scoped>\n",
       "    .dataframe tbody tr th:only-of-type {\n",
       "        vertical-align: middle;\n",
       "    }\n",
       "\n",
       "    .dataframe tbody tr th {\n",
       "        vertical-align: top;\n",
       "    }\n",
       "\n",
       "    .dataframe thead th {\n",
       "        text-align: right;\n",
       "    }\n",
       "</style>\n",
       "<table border=\"1\" class=\"dataframe\">\n",
       "  <thead>\n",
       "    <tr style=\"text-align: right;\">\n",
       "      <th></th>\n",
       "      <th>InvoiceNo</th>\n",
       "      <th>StockCode</th>\n",
       "      <th>Description</th>\n",
       "      <th>Quantity</th>\n",
       "      <th>InvoiceDate</th>\n",
       "      <th>UnitPrice</th>\n",
       "      <th>CustomerID</th>\n",
       "      <th>Country</th>\n",
       "    </tr>\n",
       "  </thead>\n",
       "  <tbody>\n",
       "    <tr>\n",
       "      <th>0</th>\n",
       "      <td>536365</td>\n",
       "      <td>85123A</td>\n",
       "      <td>WHITE HANGING HEART T-LIGHT HOLDER</td>\n",
       "      <td>6</td>\n",
       "      <td>12/1/2010 8:26</td>\n",
       "      <td>2.55</td>\n",
       "      <td>17850.0</td>\n",
       "      <td>United Kingdom</td>\n",
       "    </tr>\n",
       "    <tr>\n",
       "      <th>1</th>\n",
       "      <td>536365</td>\n",
       "      <td>71053</td>\n",
       "      <td>WHITE METAL LANTERN</td>\n",
       "      <td>6</td>\n",
       "      <td>12/1/2010 8:26</td>\n",
       "      <td>3.39</td>\n",
       "      <td>17850.0</td>\n",
       "      <td>United Kingdom</td>\n",
       "    </tr>\n",
       "    <tr>\n",
       "      <th>2</th>\n",
       "      <td>536365</td>\n",
       "      <td>84406B</td>\n",
       "      <td>CREAM CUPID HEARTS COAT HANGER</td>\n",
       "      <td>8</td>\n",
       "      <td>12/1/2010 8:26</td>\n",
       "      <td>2.75</td>\n",
       "      <td>17850.0</td>\n",
       "      <td>United Kingdom</td>\n",
       "    </tr>\n",
       "    <tr>\n",
       "      <th>3</th>\n",
       "      <td>536365</td>\n",
       "      <td>84029G</td>\n",
       "      <td>KNITTED UNION FLAG HOT WATER BOTTLE</td>\n",
       "      <td>6</td>\n",
       "      <td>12/1/2010 8:26</td>\n",
       "      <td>3.39</td>\n",
       "      <td>17850.0</td>\n",
       "      <td>United Kingdom</td>\n",
       "    </tr>\n",
       "    <tr>\n",
       "      <th>4</th>\n",
       "      <td>536365</td>\n",
       "      <td>84029E</td>\n",
       "      <td>RED WOOLLY HOTTIE WHITE HEART.</td>\n",
       "      <td>6</td>\n",
       "      <td>12/1/2010 8:26</td>\n",
       "      <td>3.39</td>\n",
       "      <td>17850.0</td>\n",
       "      <td>United Kingdom</td>\n",
       "    </tr>\n",
       "    <tr>\n",
       "      <th>...</th>\n",
       "      <td>...</td>\n",
       "      <td>...</td>\n",
       "      <td>...</td>\n",
       "      <td>...</td>\n",
       "      <td>...</td>\n",
       "      <td>...</td>\n",
       "      <td>...</td>\n",
       "      <td>...</td>\n",
       "    </tr>\n",
       "    <tr>\n",
       "      <th>541904</th>\n",
       "      <td>581587</td>\n",
       "      <td>22613</td>\n",
       "      <td>PACK OF 20 SPACEBOY NAPKINS</td>\n",
       "      <td>12</td>\n",
       "      <td>12/9/2011 12:50</td>\n",
       "      <td>0.85</td>\n",
       "      <td>12680.0</td>\n",
       "      <td>France</td>\n",
       "    </tr>\n",
       "    <tr>\n",
       "      <th>541905</th>\n",
       "      <td>581587</td>\n",
       "      <td>22899</td>\n",
       "      <td>CHILDREN'S APRON DOLLY GIRL</td>\n",
       "      <td>6</td>\n",
       "      <td>12/9/2011 12:50</td>\n",
       "      <td>2.10</td>\n",
       "      <td>12680.0</td>\n",
       "      <td>France</td>\n",
       "    </tr>\n",
       "    <tr>\n",
       "      <th>541906</th>\n",
       "      <td>581587</td>\n",
       "      <td>23254</td>\n",
       "      <td>CHILDRENS CUTLERY DOLLY GIRL</td>\n",
       "      <td>4</td>\n",
       "      <td>12/9/2011 12:50</td>\n",
       "      <td>4.15</td>\n",
       "      <td>12680.0</td>\n",
       "      <td>France</td>\n",
       "    </tr>\n",
       "    <tr>\n",
       "      <th>541907</th>\n",
       "      <td>581587</td>\n",
       "      <td>23255</td>\n",
       "      <td>CHILDRENS CUTLERY CIRCUS PARADE</td>\n",
       "      <td>4</td>\n",
       "      <td>12/9/2011 12:50</td>\n",
       "      <td>4.15</td>\n",
       "      <td>12680.0</td>\n",
       "      <td>France</td>\n",
       "    </tr>\n",
       "    <tr>\n",
       "      <th>541908</th>\n",
       "      <td>581587</td>\n",
       "      <td>22138</td>\n",
       "      <td>BAKING SET 9 PIECE RETROSPOT</td>\n",
       "      <td>3</td>\n",
       "      <td>12/9/2011 12:50</td>\n",
       "      <td>4.95</td>\n",
       "      <td>12680.0</td>\n",
       "      <td>France</td>\n",
       "    </tr>\n",
       "  </tbody>\n",
       "</table>\n",
       "<p>541909 rows × 8 columns</p>\n",
       "</div>"
      ],
      "text/plain": [
       "       InvoiceNo StockCode                          Description  Quantity  \\\n",
       "0         536365    85123A   WHITE HANGING HEART T-LIGHT HOLDER         6   \n",
       "1         536365     71053                  WHITE METAL LANTERN         6   \n",
       "2         536365    84406B       CREAM CUPID HEARTS COAT HANGER         8   \n",
       "3         536365    84029G  KNITTED UNION FLAG HOT WATER BOTTLE         6   \n",
       "4         536365    84029E       RED WOOLLY HOTTIE WHITE HEART.         6   \n",
       "...          ...       ...                                  ...       ...   \n",
       "541904    581587     22613          PACK OF 20 SPACEBOY NAPKINS        12   \n",
       "541905    581587     22899          CHILDREN'S APRON DOLLY GIRL         6   \n",
       "541906    581587     23254         CHILDRENS CUTLERY DOLLY GIRL         4   \n",
       "541907    581587     23255      CHILDRENS CUTLERY CIRCUS PARADE         4   \n",
       "541908    581587     22138         BAKING SET 9 PIECE RETROSPOT         3   \n",
       "\n",
       "            InvoiceDate  UnitPrice  CustomerID         Country  \n",
       "0        12/1/2010 8:26       2.55     17850.0  United Kingdom  \n",
       "1        12/1/2010 8:26       3.39     17850.0  United Kingdom  \n",
       "2        12/1/2010 8:26       2.75     17850.0  United Kingdom  \n",
       "3        12/1/2010 8:26       3.39     17850.0  United Kingdom  \n",
       "4        12/1/2010 8:26       3.39     17850.0  United Kingdom  \n",
       "...                 ...        ...         ...             ...  \n",
       "541904  12/9/2011 12:50       0.85     12680.0          France  \n",
       "541905  12/9/2011 12:50       2.10     12680.0          France  \n",
       "541906  12/9/2011 12:50       4.15     12680.0          France  \n",
       "541907  12/9/2011 12:50       4.15     12680.0          France  \n",
       "541908  12/9/2011 12:50       4.95     12680.0          France  \n",
       "\n",
       "[541909 rows x 8 columns]"
      ]
     },
     "execution_count": 2,
     "metadata": {},
     "output_type": "execute_result"
    }
   ],
   "source": [
    "data = pd.read_csv('customer_purchases.csv')\n",
    "data"
   ]
  },
  {
   "cell_type": "markdown",
   "id": "c2a88307",
   "metadata": {},
   "source": [
    "## Show The Columns"
   ]
  },
  {
   "cell_type": "code",
   "execution_count": 3,
   "id": "51aedce3",
   "metadata": {},
   "outputs": [
    {
     "data": {
      "text/plain": [
       "Index(['InvoiceNo', 'StockCode', 'Description', 'Quantity', 'InvoiceDate',\n",
       "       'UnitPrice', 'CustomerID', 'Country'],\n",
       "      dtype='object')"
      ]
     },
     "execution_count": 3,
     "metadata": {},
     "output_type": "execute_result"
    }
   ],
   "source": [
    "data.columns"
   ]
  },
  {
   "cell_type": "markdown",
   "id": "b1853fc7",
   "metadata": {},
   "source": [
    "## Fetch Top Records"
   ]
  },
  {
   "cell_type": "code",
   "execution_count": 4,
   "id": "40fb60a5",
   "metadata": {},
   "outputs": [
    {
     "data": {
      "text/html": [
       "<div>\n",
       "<style scoped>\n",
       "    .dataframe tbody tr th:only-of-type {\n",
       "        vertical-align: middle;\n",
       "    }\n",
       "\n",
       "    .dataframe tbody tr th {\n",
       "        vertical-align: top;\n",
       "    }\n",
       "\n",
       "    .dataframe thead th {\n",
       "        text-align: right;\n",
       "    }\n",
       "</style>\n",
       "<table border=\"1\" class=\"dataframe\">\n",
       "  <thead>\n",
       "    <tr style=\"text-align: right;\">\n",
       "      <th></th>\n",
       "      <th>InvoiceNo</th>\n",
       "      <th>StockCode</th>\n",
       "      <th>Description</th>\n",
       "      <th>Quantity</th>\n",
       "      <th>InvoiceDate</th>\n",
       "      <th>UnitPrice</th>\n",
       "      <th>CustomerID</th>\n",
       "      <th>Country</th>\n",
       "    </tr>\n",
       "  </thead>\n",
       "  <tbody>\n",
       "    <tr>\n",
       "      <th>0</th>\n",
       "      <td>536365</td>\n",
       "      <td>85123A</td>\n",
       "      <td>WHITE HANGING HEART T-LIGHT HOLDER</td>\n",
       "      <td>6</td>\n",
       "      <td>12/1/2010 8:26</td>\n",
       "      <td>2.55</td>\n",
       "      <td>17850.0</td>\n",
       "      <td>United Kingdom</td>\n",
       "    </tr>\n",
       "    <tr>\n",
       "      <th>1</th>\n",
       "      <td>536365</td>\n",
       "      <td>71053</td>\n",
       "      <td>WHITE METAL LANTERN</td>\n",
       "      <td>6</td>\n",
       "      <td>12/1/2010 8:26</td>\n",
       "      <td>3.39</td>\n",
       "      <td>17850.0</td>\n",
       "      <td>United Kingdom</td>\n",
       "    </tr>\n",
       "    <tr>\n",
       "      <th>2</th>\n",
       "      <td>536365</td>\n",
       "      <td>84406B</td>\n",
       "      <td>CREAM CUPID HEARTS COAT HANGER</td>\n",
       "      <td>8</td>\n",
       "      <td>12/1/2010 8:26</td>\n",
       "      <td>2.75</td>\n",
       "      <td>17850.0</td>\n",
       "      <td>United Kingdom</td>\n",
       "    </tr>\n",
       "    <tr>\n",
       "      <th>3</th>\n",
       "      <td>536365</td>\n",
       "      <td>84029G</td>\n",
       "      <td>KNITTED UNION FLAG HOT WATER BOTTLE</td>\n",
       "      <td>6</td>\n",
       "      <td>12/1/2010 8:26</td>\n",
       "      <td>3.39</td>\n",
       "      <td>17850.0</td>\n",
       "      <td>United Kingdom</td>\n",
       "    </tr>\n",
       "    <tr>\n",
       "      <th>4</th>\n",
       "      <td>536365</td>\n",
       "      <td>84029E</td>\n",
       "      <td>RED WOOLLY HOTTIE WHITE HEART.</td>\n",
       "      <td>6</td>\n",
       "      <td>12/1/2010 8:26</td>\n",
       "      <td>3.39</td>\n",
       "      <td>17850.0</td>\n",
       "      <td>United Kingdom</td>\n",
       "    </tr>\n",
       "  </tbody>\n",
       "</table>\n",
       "</div>"
      ],
      "text/plain": [
       "  InvoiceNo StockCode                          Description  Quantity  \\\n",
       "0    536365    85123A   WHITE HANGING HEART T-LIGHT HOLDER         6   \n",
       "1    536365     71053                  WHITE METAL LANTERN         6   \n",
       "2    536365    84406B       CREAM CUPID HEARTS COAT HANGER         8   \n",
       "3    536365    84029G  KNITTED UNION FLAG HOT WATER BOTTLE         6   \n",
       "4    536365    84029E       RED WOOLLY HOTTIE WHITE HEART.         6   \n",
       "\n",
       "      InvoiceDate  UnitPrice  CustomerID         Country  \n",
       "0  12/1/2010 8:26       2.55     17850.0  United Kingdom  \n",
       "1  12/1/2010 8:26       3.39     17850.0  United Kingdom  \n",
       "2  12/1/2010 8:26       2.75     17850.0  United Kingdom  \n",
       "3  12/1/2010 8:26       3.39     17850.0  United Kingdom  \n",
       "4  12/1/2010 8:26       3.39     17850.0  United Kingdom  "
      ]
     },
     "execution_count": 4,
     "metadata": {},
     "output_type": "execute_result"
    }
   ],
   "source": [
    "data.head()"
   ]
  },
  {
   "cell_type": "markdown",
   "id": "945e9dc3",
   "metadata": {},
   "source": [
    "## Fetch Last Records"
   ]
  },
  {
   "cell_type": "code",
   "execution_count": 5,
   "id": "911f8d51",
   "metadata": {},
   "outputs": [
    {
     "data": {
      "text/html": [
       "<div>\n",
       "<style scoped>\n",
       "    .dataframe tbody tr th:only-of-type {\n",
       "        vertical-align: middle;\n",
       "    }\n",
       "\n",
       "    .dataframe tbody tr th {\n",
       "        vertical-align: top;\n",
       "    }\n",
       "\n",
       "    .dataframe thead th {\n",
       "        text-align: right;\n",
       "    }\n",
       "</style>\n",
       "<table border=\"1\" class=\"dataframe\">\n",
       "  <thead>\n",
       "    <tr style=\"text-align: right;\">\n",
       "      <th></th>\n",
       "      <th>InvoiceNo</th>\n",
       "      <th>StockCode</th>\n",
       "      <th>Description</th>\n",
       "      <th>Quantity</th>\n",
       "      <th>InvoiceDate</th>\n",
       "      <th>UnitPrice</th>\n",
       "      <th>CustomerID</th>\n",
       "      <th>Country</th>\n",
       "    </tr>\n",
       "  </thead>\n",
       "  <tbody>\n",
       "    <tr>\n",
       "      <th>541904</th>\n",
       "      <td>581587</td>\n",
       "      <td>22613</td>\n",
       "      <td>PACK OF 20 SPACEBOY NAPKINS</td>\n",
       "      <td>12</td>\n",
       "      <td>12/9/2011 12:50</td>\n",
       "      <td>0.85</td>\n",
       "      <td>12680.0</td>\n",
       "      <td>France</td>\n",
       "    </tr>\n",
       "    <tr>\n",
       "      <th>541905</th>\n",
       "      <td>581587</td>\n",
       "      <td>22899</td>\n",
       "      <td>CHILDREN'S APRON DOLLY GIRL</td>\n",
       "      <td>6</td>\n",
       "      <td>12/9/2011 12:50</td>\n",
       "      <td>2.10</td>\n",
       "      <td>12680.0</td>\n",
       "      <td>France</td>\n",
       "    </tr>\n",
       "    <tr>\n",
       "      <th>541906</th>\n",
       "      <td>581587</td>\n",
       "      <td>23254</td>\n",
       "      <td>CHILDRENS CUTLERY DOLLY GIRL</td>\n",
       "      <td>4</td>\n",
       "      <td>12/9/2011 12:50</td>\n",
       "      <td>4.15</td>\n",
       "      <td>12680.0</td>\n",
       "      <td>France</td>\n",
       "    </tr>\n",
       "    <tr>\n",
       "      <th>541907</th>\n",
       "      <td>581587</td>\n",
       "      <td>23255</td>\n",
       "      <td>CHILDRENS CUTLERY CIRCUS PARADE</td>\n",
       "      <td>4</td>\n",
       "      <td>12/9/2011 12:50</td>\n",
       "      <td>4.15</td>\n",
       "      <td>12680.0</td>\n",
       "      <td>France</td>\n",
       "    </tr>\n",
       "    <tr>\n",
       "      <th>541908</th>\n",
       "      <td>581587</td>\n",
       "      <td>22138</td>\n",
       "      <td>BAKING SET 9 PIECE RETROSPOT</td>\n",
       "      <td>3</td>\n",
       "      <td>12/9/2011 12:50</td>\n",
       "      <td>4.95</td>\n",
       "      <td>12680.0</td>\n",
       "      <td>France</td>\n",
       "    </tr>\n",
       "  </tbody>\n",
       "</table>\n",
       "</div>"
      ],
      "text/plain": [
       "       InvoiceNo StockCode                      Description  Quantity  \\\n",
       "541904    581587     22613      PACK OF 20 SPACEBOY NAPKINS        12   \n",
       "541905    581587     22899      CHILDREN'S APRON DOLLY GIRL         6   \n",
       "541906    581587     23254     CHILDRENS CUTLERY DOLLY GIRL         4   \n",
       "541907    581587     23255  CHILDRENS CUTLERY CIRCUS PARADE         4   \n",
       "541908    581587     22138     BAKING SET 9 PIECE RETROSPOT         3   \n",
       "\n",
       "            InvoiceDate  UnitPrice  CustomerID Country  \n",
       "541904  12/9/2011 12:50       0.85     12680.0  France  \n",
       "541905  12/9/2011 12:50       2.10     12680.0  France  \n",
       "541906  12/9/2011 12:50       4.15     12680.0  France  \n",
       "541907  12/9/2011 12:50       4.15     12680.0  France  \n",
       "541908  12/9/2011 12:50       4.95     12680.0  France  "
      ]
     },
     "execution_count": 5,
     "metadata": {},
     "output_type": "execute_result"
    }
   ],
   "source": [
    "data.tail()"
   ]
  },
  {
   "cell_type": "markdown",
   "id": "9737eebf",
   "metadata": {},
   "source": [
    "## How many rows and columns present?"
   ]
  },
  {
   "cell_type": "code",
   "execution_count": 6,
   "id": "e1d41452",
   "metadata": {},
   "outputs": [
    {
     "data": {
      "text/plain": [
       "(541909, 8)"
      ]
     },
     "execution_count": 6,
     "metadata": {},
     "output_type": "execute_result"
    }
   ],
   "source": [
    "sh = data.shape\n",
    "sh"
   ]
  },
  {
   "cell_type": "code",
   "execution_count": 7,
   "id": "8c848829",
   "metadata": {},
   "outputs": [
    {
     "name": "stdout",
     "output_type": "stream",
     "text": [
      "Total number of rows: 541909\n",
      "Total number of columns: 8\n"
     ]
    }
   ],
   "source": [
    "print('Total number of rows:',sh[0])\n",
    "print('Total number of columns:',sh[1])"
   ]
  },
  {
   "cell_type": "markdown",
   "id": "5aa882f1",
   "metadata": {},
   "source": [
    "## Known about type of Data in file"
   ]
  },
  {
   "cell_type": "code",
   "execution_count": 8,
   "id": "7c278505",
   "metadata": {},
   "outputs": [
    {
     "data": {
      "text/plain": [
       "InvoiceNo       object\n",
       "StockCode       object\n",
       "Description     object\n",
       "Quantity         int64\n",
       "InvoiceDate     object\n",
       "UnitPrice      float64\n",
       "CustomerID     float64\n",
       "Country         object\n",
       "dtype: object"
      ]
     },
     "execution_count": 8,
     "metadata": {},
     "output_type": "execute_result"
    }
   ],
   "source": [
    "data.dtypes"
   ]
  },
  {
   "cell_type": "markdown",
   "id": "c0fe5594",
   "metadata": {},
   "source": [
    "## List out the names of columns"
   ]
  },
  {
   "cell_type": "code",
   "execution_count": 9,
   "id": "af6acef9",
   "metadata": {},
   "outputs": [
    {
     "name": "stdout",
     "output_type": "stream",
     "text": [
      "['InvoiceNo', 'StockCode', 'Description', 'Quantity', 'InvoiceDate', 'UnitPrice', 'CustomerID', 'Country']\n"
     ]
    }
   ],
   "source": [
    "print(list(data.columns))"
   ]
  },
  {
   "cell_type": "markdown",
   "id": "7e4485a2",
   "metadata": {},
   "source": [
    "## Check the abstract summary of data"
   ]
  },
  {
   "cell_type": "code",
   "execution_count": 10,
   "id": "798a9df1",
   "metadata": {},
   "outputs": [
    {
     "name": "stdout",
     "output_type": "stream",
     "text": [
      "<class 'pandas.core.frame.DataFrame'>\n",
      "RangeIndex: 541909 entries, 0 to 541908\n",
      "Data columns (total 8 columns):\n",
      " #   Column       Non-Null Count   Dtype  \n",
      "---  ------       --------------   -----  \n",
      " 0   InvoiceNo    541909 non-null  object \n",
      " 1   StockCode    541909 non-null  object \n",
      " 2   Description  540455 non-null  object \n",
      " 3   Quantity     541909 non-null  int64  \n",
      " 4   InvoiceDate  541909 non-null  object \n",
      " 5   UnitPrice    541909 non-null  float64\n",
      " 6   CustomerID   406829 non-null  float64\n",
      " 7   Country      541909 non-null  object \n",
      "dtypes: float64(2), int64(1), object(5)\n",
      "memory usage: 33.1+ MB\n"
     ]
    }
   ],
   "source": [
    "data.info()"
   ]
  },
  {
   "cell_type": "markdown",
   "id": "4fb38402",
   "metadata": {},
   "source": [
    "## Check the missing values"
   ]
  },
  {
   "cell_type": "code",
   "execution_count": 11,
   "id": "97604e61",
   "metadata": {},
   "outputs": [
    {
     "data": {
      "text/plain": [
       "InvoiceNo           0\n",
       "StockCode           0\n",
       "Description      1454\n",
       "Quantity            0\n",
       "InvoiceDate         0\n",
       "UnitPrice           0\n",
       "CustomerID     135080\n",
       "Country             0\n",
       "dtype: int64"
      ]
     },
     "execution_count": 11,
     "metadata": {},
     "output_type": "execute_result"
    }
   ],
   "source": [
    "data.isna().sum()"
   ]
  },
  {
   "cell_type": "markdown",
   "id": "fb9f9689",
   "metadata": {},
   "source": [
    "## Check descriptive statistics"
   ]
  },
  {
   "cell_type": "code",
   "execution_count": 12,
   "id": "328682e4",
   "metadata": {},
   "outputs": [
    {
     "data": {
      "text/html": [
       "<div>\n",
       "<style scoped>\n",
       "    .dataframe tbody tr th:only-of-type {\n",
       "        vertical-align: middle;\n",
       "    }\n",
       "\n",
       "    .dataframe tbody tr th {\n",
       "        vertical-align: top;\n",
       "    }\n",
       "\n",
       "    .dataframe thead th {\n",
       "        text-align: right;\n",
       "    }\n",
       "</style>\n",
       "<table border=\"1\" class=\"dataframe\">\n",
       "  <thead>\n",
       "    <tr style=\"text-align: right;\">\n",
       "      <th></th>\n",
       "      <th>Quantity</th>\n",
       "      <th>UnitPrice</th>\n",
       "      <th>CustomerID</th>\n",
       "    </tr>\n",
       "  </thead>\n",
       "  <tbody>\n",
       "    <tr>\n",
       "      <th>count</th>\n",
       "      <td>541909.000000</td>\n",
       "      <td>541909.000000</td>\n",
       "      <td>406829.000000</td>\n",
       "    </tr>\n",
       "    <tr>\n",
       "      <th>mean</th>\n",
       "      <td>9.552250</td>\n",
       "      <td>4.611114</td>\n",
       "      <td>15287.690570</td>\n",
       "    </tr>\n",
       "    <tr>\n",
       "      <th>std</th>\n",
       "      <td>218.081158</td>\n",
       "      <td>96.759853</td>\n",
       "      <td>1713.600303</td>\n",
       "    </tr>\n",
       "    <tr>\n",
       "      <th>min</th>\n",
       "      <td>-80995.000000</td>\n",
       "      <td>-11062.060000</td>\n",
       "      <td>12346.000000</td>\n",
       "    </tr>\n",
       "    <tr>\n",
       "      <th>25%</th>\n",
       "      <td>1.000000</td>\n",
       "      <td>1.250000</td>\n",
       "      <td>13953.000000</td>\n",
       "    </tr>\n",
       "    <tr>\n",
       "      <th>50%</th>\n",
       "      <td>3.000000</td>\n",
       "      <td>2.080000</td>\n",
       "      <td>15152.000000</td>\n",
       "    </tr>\n",
       "    <tr>\n",
       "      <th>75%</th>\n",
       "      <td>10.000000</td>\n",
       "      <td>4.130000</td>\n",
       "      <td>16791.000000</td>\n",
       "    </tr>\n",
       "    <tr>\n",
       "      <th>max</th>\n",
       "      <td>80995.000000</td>\n",
       "      <td>38970.000000</td>\n",
       "      <td>18287.000000</td>\n",
       "    </tr>\n",
       "  </tbody>\n",
       "</table>\n",
       "</div>"
      ],
      "text/plain": [
       "            Quantity      UnitPrice     CustomerID\n",
       "count  541909.000000  541909.000000  406829.000000\n",
       "mean        9.552250       4.611114   15287.690570\n",
       "std       218.081158      96.759853    1713.600303\n",
       "min    -80995.000000  -11062.060000   12346.000000\n",
       "25%         1.000000       1.250000   13953.000000\n",
       "50%         3.000000       2.080000   15152.000000\n",
       "75%        10.000000       4.130000   16791.000000\n",
       "max     80995.000000   38970.000000   18287.000000"
      ]
     },
     "execution_count": 12,
     "metadata": {},
     "output_type": "execute_result"
    }
   ],
   "source": [
    "data.describe()"
   ]
  },
  {
   "cell_type": "markdown",
   "id": "e1e403d9",
   "metadata": {},
   "source": [
    "## Assuming your data contains columns 'CustomerID', 'InvoiceDate', and 'UnitPrice'"
   ]
  },
  {
   "cell_type": "markdown",
   "id": "8743ac5d",
   "metadata": {},
   "source": [
    "## Replace with the current date"
   ]
  },
  {
   "cell_type": "code",
   "execution_count": 13,
   "id": "04deb4dd",
   "metadata": {},
   "outputs": [
    {
     "data": {
      "text/plain": [
       "Timestamp('2023-09-04 00:00:00')"
      ]
     },
     "execution_count": 13,
     "metadata": {},
     "output_type": "execute_result"
    }
   ],
   "source": [
    "today = pd.to_datetime('2023-09-04')\n",
    "today"
   ]
  },
  {
   "cell_type": "code",
   "execution_count": 14,
   "id": "ffcb6222",
   "metadata": {},
   "outputs": [
    {
     "data": {
      "text/plain": [
       "0        2010-12-01 08:26:00\n",
       "1        2010-12-01 08:26:00\n",
       "2        2010-12-01 08:26:00\n",
       "3        2010-12-01 08:26:00\n",
       "4        2010-12-01 08:26:00\n",
       "                 ...        \n",
       "541904   2011-12-09 12:50:00\n",
       "541905   2011-12-09 12:50:00\n",
       "541906   2011-12-09 12:50:00\n",
       "541907   2011-12-09 12:50:00\n",
       "541908   2011-12-09 12:50:00\n",
       "Name: InvoiceDate, Length: 541909, dtype: datetime64[ns]"
      ]
     },
     "execution_count": 14,
     "metadata": {},
     "output_type": "execute_result"
    }
   ],
   "source": [
    "data['InvoiceDate'] = pd.to_datetime(data['InvoiceDate'])\n",
    "data['InvoiceDate']"
   ]
  },
  {
   "cell_type": "markdown",
   "id": "26c3e602",
   "metadata": {},
   "source": [
    "## Using RFM(Recency, Frequency, and Monetary) Method"
   ]
  },
  {
   "cell_type": "markdown",
   "id": "4103396c",
   "metadata": {},
   "source": [
    "## Calculate Recency, Frequency, and Monetary for each customer"
   ]
  },
  {
   "cell_type": "code",
   "execution_count": 15,
   "id": "ab62f768",
   "metadata": {},
   "outputs": [],
   "source": [
    "rfm_data = data.groupby('CustomerID').agg({\n",
    "    'InvoiceDate': lambda x: (today - x.max()).days,  # Recency\n",
    "    'CustomerID': 'count',  # Frequency\n",
    "    'UnitPrice': 'sum'  # Monetary\n",
    "}).rename(columns={\n",
    "    'InvoiceDate': 'Recency',\n",
    "    'CustomerID': 'Frequency',\n",
    "    'UnitPrice': 'Monetary'\n",
    "})"
   ]
  },
  {
   "cell_type": "code",
   "execution_count": 16,
   "id": "68928e66",
   "metadata": {},
   "outputs": [
    {
     "data": {
      "text/html": [
       "<div>\n",
       "<style scoped>\n",
       "    .dataframe tbody tr th:only-of-type {\n",
       "        vertical-align: middle;\n",
       "    }\n",
       "\n",
       "    .dataframe tbody tr th {\n",
       "        vertical-align: top;\n",
       "    }\n",
       "\n",
       "    .dataframe thead th {\n",
       "        text-align: right;\n",
       "    }\n",
       "</style>\n",
       "<table border=\"1\" class=\"dataframe\">\n",
       "  <thead>\n",
       "    <tr style=\"text-align: right;\">\n",
       "      <th></th>\n",
       "      <th>Recency</th>\n",
       "      <th>Frequency</th>\n",
       "      <th>Monetary</th>\n",
       "    </tr>\n",
       "    <tr>\n",
       "      <th>CustomerID</th>\n",
       "      <th></th>\n",
       "      <th></th>\n",
       "      <th></th>\n",
       "    </tr>\n",
       "  </thead>\n",
       "  <tbody>\n",
       "    <tr>\n",
       "      <th>12346.0</th>\n",
       "      <td>4611</td>\n",
       "      <td>2</td>\n",
       "      <td>2.08</td>\n",
       "    </tr>\n",
       "    <tr>\n",
       "      <th>12347.0</th>\n",
       "      <td>4288</td>\n",
       "      <td>182</td>\n",
       "      <td>481.21</td>\n",
       "    </tr>\n",
       "    <tr>\n",
       "      <th>12348.0</th>\n",
       "      <td>4361</td>\n",
       "      <td>31</td>\n",
       "      <td>178.71</td>\n",
       "    </tr>\n",
       "    <tr>\n",
       "      <th>12349.0</th>\n",
       "      <td>4304</td>\n",
       "      <td>73</td>\n",
       "      <td>605.10</td>\n",
       "    </tr>\n",
       "    <tr>\n",
       "      <th>12350.0</th>\n",
       "      <td>4596</td>\n",
       "      <td>17</td>\n",
       "      <td>65.30</td>\n",
       "    </tr>\n",
       "    <tr>\n",
       "      <th>...</th>\n",
       "      <td>...</td>\n",
       "      <td>...</td>\n",
       "      <td>...</td>\n",
       "    </tr>\n",
       "    <tr>\n",
       "      <th>18280.0</th>\n",
       "      <td>4563</td>\n",
       "      <td>10</td>\n",
       "      <td>47.65</td>\n",
       "    </tr>\n",
       "    <tr>\n",
       "      <th>18281.0</th>\n",
       "      <td>4466</td>\n",
       "      <td>7</td>\n",
       "      <td>39.36</td>\n",
       "    </tr>\n",
       "    <tr>\n",
       "      <th>18282.0</th>\n",
       "      <td>4293</td>\n",
       "      <td>13</td>\n",
       "      <td>62.68</td>\n",
       "    </tr>\n",
       "    <tr>\n",
       "      <th>18283.0</th>\n",
       "      <td>4289</td>\n",
       "      <td>756</td>\n",
       "      <td>1220.93</td>\n",
       "    </tr>\n",
       "    <tr>\n",
       "      <th>18287.0</th>\n",
       "      <td>4328</td>\n",
       "      <td>70</td>\n",
       "      <td>104.55</td>\n",
       "    </tr>\n",
       "  </tbody>\n",
       "</table>\n",
       "<p>4372 rows × 3 columns</p>\n",
       "</div>"
      ],
      "text/plain": [
       "            Recency  Frequency  Monetary\n",
       "CustomerID                              \n",
       "12346.0        4611          2      2.08\n",
       "12347.0        4288        182    481.21\n",
       "12348.0        4361         31    178.71\n",
       "12349.0        4304         73    605.10\n",
       "12350.0        4596         17     65.30\n",
       "...             ...        ...       ...\n",
       "18280.0        4563         10     47.65\n",
       "18281.0        4466          7     39.36\n",
       "18282.0        4293         13     62.68\n",
       "18283.0        4289        756   1220.93\n",
       "18287.0        4328         70    104.55\n",
       "\n",
       "[4372 rows x 3 columns]"
      ]
     },
     "execution_count": 16,
     "metadata": {},
     "output_type": "execute_result"
    }
   ],
   "source": [
    "rfm_data"
   ]
  },
  {
   "cell_type": "markdown",
   "id": "1ea03f7e",
   "metadata": {},
   "source": [
    "## Using CLTV(Customer Life Time Value) Formula"
   ]
  },
  {
   "cell_type": "markdown",
   "id": "7f17609e",
   "metadata": {},
   "source": [
    "## CLTV = (Monetary * Frequency) / Recency"
   ]
  },
  {
   "cell_type": "code",
   "execution_count": 17,
   "id": "03f11037",
   "metadata": {},
   "outputs": [
    {
     "data": {
      "text/plain": [
       "CustomerID\n",
       "12346.0      0.000902\n",
       "12347.0     20.424492\n",
       "12348.0      1.270353\n",
       "12349.0     10.263081\n",
       "12350.0      0.241536\n",
       "              ...    \n",
       "18280.0      0.104427\n",
       "18281.0      0.061693\n",
       "18282.0      0.189807\n",
       "18283.0    215.207060\n",
       "18287.0      1.690966\n",
       "Name: CLTV, Length: 4372, dtype: float64"
      ]
     },
     "execution_count": 17,
     "metadata": {},
     "output_type": "execute_result"
    }
   ],
   "source": [
    "rfm_data['CLTV'] = (rfm_data['Monetary'] * rfm_data['Frequency']) / rfm_data['Recency']\n",
    "rfm_data['CLTV']"
   ]
  },
  {
   "cell_type": "markdown",
   "id": "23357755",
   "metadata": {},
   "source": [
    "## Sort customers by CLTV"
   ]
  },
  {
   "cell_type": "code",
   "execution_count": 18,
   "id": "0f1f35f5",
   "metadata": {},
   "outputs": [
    {
     "data": {
      "text/html": [
       "<div>\n",
       "<style scoped>\n",
       "    .dataframe tbody tr th:only-of-type {\n",
       "        vertical-align: middle;\n",
       "    }\n",
       "\n",
       "    .dataframe tbody tr th {\n",
       "        vertical-align: top;\n",
       "    }\n",
       "\n",
       "    .dataframe thead th {\n",
       "        text-align: right;\n",
       "    }\n",
       "</style>\n",
       "<table border=\"1\" class=\"dataframe\">\n",
       "  <thead>\n",
       "    <tr style=\"text-align: right;\">\n",
       "      <th></th>\n",
       "      <th>Recency</th>\n",
       "      <th>Frequency</th>\n",
       "      <th>Monetary</th>\n",
       "      <th>CLTV</th>\n",
       "    </tr>\n",
       "    <tr>\n",
       "      <th>CustomerID</th>\n",
       "      <th></th>\n",
       "      <th></th>\n",
       "      <th></th>\n",
       "      <th></th>\n",
       "    </tr>\n",
       "  </thead>\n",
       "  <tbody>\n",
       "    <tr>\n",
       "      <th>14096.0</th>\n",
       "      <td>4290</td>\n",
       "      <td>5128</td>\n",
       "      <td>41376.33</td>\n",
       "      <td>49458.699357</td>\n",
       "    </tr>\n",
       "    <tr>\n",
       "      <th>14911.0</th>\n",
       "      <td>4287</td>\n",
       "      <td>5903</td>\n",
       "      <td>31060.66</td>\n",
       "      <td>42769.087003</td>\n",
       "    </tr>\n",
       "    <tr>\n",
       "      <th>17841.0</th>\n",
       "      <td>4287</td>\n",
       "      <td>7983</td>\n",
       "      <td>20333.18</td>\n",
       "      <td>37863.255409</td>\n",
       "    </tr>\n",
       "    <tr>\n",
       "      <th>12748.0</th>\n",
       "      <td>4286</td>\n",
       "      <td>4642</td>\n",
       "      <td>15115.60</td>\n",
       "      <td>16371.118805</td>\n",
       "    </tr>\n",
       "    <tr>\n",
       "      <th>14606.0</th>\n",
       "      <td>4287</td>\n",
       "      <td>2782</td>\n",
       "      <td>7839.02</td>\n",
       "      <td>5087.043070</td>\n",
       "    </tr>\n",
       "    <tr>\n",
       "      <th>...</th>\n",
       "      <td>...</td>\n",
       "      <td>...</td>\n",
       "      <td>...</td>\n",
       "      <td>...</td>\n",
       "    </tr>\n",
       "    <tr>\n",
       "      <th>15753.0</th>\n",
       "      <td>4590</td>\n",
       "      <td>1</td>\n",
       "      <td>0.55</td>\n",
       "      <td>0.000120</td>\n",
       "    </tr>\n",
       "    <tr>\n",
       "      <th>17752.0</th>\n",
       "      <td>4645</td>\n",
       "      <td>1</td>\n",
       "      <td>0.42</td>\n",
       "      <td>0.000090</td>\n",
       "    </tr>\n",
       "    <tr>\n",
       "      <th>13366.0</th>\n",
       "      <td>4336</td>\n",
       "      <td>1</td>\n",
       "      <td>0.39</td>\n",
       "      <td>0.000090</td>\n",
       "    </tr>\n",
       "    <tr>\n",
       "      <th>15118.0</th>\n",
       "      <td>4420</td>\n",
       "      <td>1</td>\n",
       "      <td>0.17</td>\n",
       "      <td>0.000038</td>\n",
       "    </tr>\n",
       "    <tr>\n",
       "      <th>13256.0</th>\n",
       "      <td>4300</td>\n",
       "      <td>1</td>\n",
       "      <td>0.00</td>\n",
       "      <td>0.000000</td>\n",
       "    </tr>\n",
       "  </tbody>\n",
       "</table>\n",
       "<p>4372 rows × 4 columns</p>\n",
       "</div>"
      ],
      "text/plain": [
       "            Recency  Frequency  Monetary          CLTV\n",
       "CustomerID                                            \n",
       "14096.0        4290       5128  41376.33  49458.699357\n",
       "14911.0        4287       5903  31060.66  42769.087003\n",
       "17841.0        4287       7983  20333.18  37863.255409\n",
       "12748.0        4286       4642  15115.60  16371.118805\n",
       "14606.0        4287       2782   7839.02   5087.043070\n",
       "...             ...        ...       ...           ...\n",
       "15753.0        4590          1      0.55      0.000120\n",
       "17752.0        4645          1      0.42      0.000090\n",
       "13366.0        4336          1      0.39      0.000090\n",
       "15118.0        4420          1      0.17      0.000038\n",
       "13256.0        4300          1      0.00      0.000000\n",
       "\n",
       "[4372 rows x 4 columns]"
      ]
     },
     "execution_count": 18,
     "metadata": {},
     "output_type": "execute_result"
    }
   ],
   "source": [
    "rfm_data = rfm_data.sort_values(by='CLTV', ascending=False)\n",
    "rfm_data"
   ]
  },
  {
   "cell_type": "markdown",
   "id": "627f95d0",
   "metadata": {},
   "source": [
    "## Print the top customers by CLTV"
   ]
  },
  {
   "cell_type": "code",
   "execution_count": 19,
   "id": "156a3e00",
   "metadata": {},
   "outputs": [
    {
     "data": {
      "text/html": [
       "<div>\n",
       "<style scoped>\n",
       "    .dataframe tbody tr th:only-of-type {\n",
       "        vertical-align: middle;\n",
       "    }\n",
       "\n",
       "    .dataframe tbody tr th {\n",
       "        vertical-align: top;\n",
       "    }\n",
       "\n",
       "    .dataframe thead th {\n",
       "        text-align: right;\n",
       "    }\n",
       "</style>\n",
       "<table border=\"1\" class=\"dataframe\">\n",
       "  <thead>\n",
       "    <tr style=\"text-align: right;\">\n",
       "      <th></th>\n",
       "      <th>Recency</th>\n",
       "      <th>Frequency</th>\n",
       "      <th>Monetary</th>\n",
       "      <th>CLTV</th>\n",
       "    </tr>\n",
       "    <tr>\n",
       "      <th>CustomerID</th>\n",
       "      <th></th>\n",
       "      <th></th>\n",
       "      <th></th>\n",
       "      <th></th>\n",
       "    </tr>\n",
       "  </thead>\n",
       "  <tbody>\n",
       "    <tr>\n",
       "      <th>14096.0</th>\n",
       "      <td>4290</td>\n",
       "      <td>5128</td>\n",
       "      <td>41376.33</td>\n",
       "      <td>49458.699357</td>\n",
       "    </tr>\n",
       "    <tr>\n",
       "      <th>14911.0</th>\n",
       "      <td>4287</td>\n",
       "      <td>5903</td>\n",
       "      <td>31060.66</td>\n",
       "      <td>42769.087003</td>\n",
       "    </tr>\n",
       "    <tr>\n",
       "      <th>17841.0</th>\n",
       "      <td>4287</td>\n",
       "      <td>7983</td>\n",
       "      <td>20333.18</td>\n",
       "      <td>37863.255409</td>\n",
       "    </tr>\n",
       "    <tr>\n",
       "      <th>12748.0</th>\n",
       "      <td>4286</td>\n",
       "      <td>4642</td>\n",
       "      <td>15115.60</td>\n",
       "      <td>16371.118805</td>\n",
       "    </tr>\n",
       "    <tr>\n",
       "      <th>14606.0</th>\n",
       "      <td>4287</td>\n",
       "      <td>2782</td>\n",
       "      <td>7839.02</td>\n",
       "      <td>5087.043070</td>\n",
       "    </tr>\n",
       "  </tbody>\n",
       "</table>\n",
       "</div>"
      ],
      "text/plain": [
       "            Recency  Frequency  Monetary          CLTV\n",
       "CustomerID                                            \n",
       "14096.0        4290       5128  41376.33  49458.699357\n",
       "14911.0        4287       5903  31060.66  42769.087003\n",
       "17841.0        4287       7983  20333.18  37863.255409\n",
       "12748.0        4286       4642  15115.60  16371.118805\n",
       "14606.0        4287       2782   7839.02   5087.043070"
      ]
     },
     "execution_count": 19,
     "metadata": {},
     "output_type": "execute_result"
    }
   ],
   "source": [
    "rfm_data.head()"
   ]
  },
  {
   "cell_type": "markdown",
   "id": "d70130fe",
   "metadata": {},
   "source": [
    "## Using Predictive modelling"
   ]
  },
  {
   "cell_type": "markdown",
   "id": "e9db19a0",
   "metadata": {},
   "source": [
    "## Assuming your data contains columns 'CustomerID', 'Recency', 'Frequency', 'Monetary', and 'CLTV'\n",
    "\n",
    "## Split the data into features (X) and the target variable (CLTV)"
   ]
  },
  {
   "cell_type": "code",
   "execution_count": 20,
   "id": "b1dacfde",
   "metadata": {},
   "outputs": [
    {
     "data": {
      "text/html": [
       "<div>\n",
       "<style scoped>\n",
       "    .dataframe tbody tr th:only-of-type {\n",
       "        vertical-align: middle;\n",
       "    }\n",
       "\n",
       "    .dataframe tbody tr th {\n",
       "        vertical-align: top;\n",
       "    }\n",
       "\n",
       "    .dataframe thead th {\n",
       "        text-align: right;\n",
       "    }\n",
       "</style>\n",
       "<table border=\"1\" class=\"dataframe\">\n",
       "  <thead>\n",
       "    <tr style=\"text-align: right;\">\n",
       "      <th></th>\n",
       "      <th>Recency</th>\n",
       "      <th>Frequency</th>\n",
       "      <th>Monetary</th>\n",
       "    </tr>\n",
       "    <tr>\n",
       "      <th>CustomerID</th>\n",
       "      <th></th>\n",
       "      <th></th>\n",
       "      <th></th>\n",
       "    </tr>\n",
       "  </thead>\n",
       "  <tbody>\n",
       "    <tr>\n",
       "      <th>14096.0</th>\n",
       "      <td>4290</td>\n",
       "      <td>5128</td>\n",
       "      <td>41376.33</td>\n",
       "    </tr>\n",
       "    <tr>\n",
       "      <th>14911.0</th>\n",
       "      <td>4287</td>\n",
       "      <td>5903</td>\n",
       "      <td>31060.66</td>\n",
       "    </tr>\n",
       "    <tr>\n",
       "      <th>17841.0</th>\n",
       "      <td>4287</td>\n",
       "      <td>7983</td>\n",
       "      <td>20333.18</td>\n",
       "    </tr>\n",
       "    <tr>\n",
       "      <th>12748.0</th>\n",
       "      <td>4286</td>\n",
       "      <td>4642</td>\n",
       "      <td>15115.60</td>\n",
       "    </tr>\n",
       "    <tr>\n",
       "      <th>14606.0</th>\n",
       "      <td>4287</td>\n",
       "      <td>2782</td>\n",
       "      <td>7839.02</td>\n",
       "    </tr>\n",
       "    <tr>\n",
       "      <th>...</th>\n",
       "      <td>...</td>\n",
       "      <td>...</td>\n",
       "      <td>...</td>\n",
       "    </tr>\n",
       "    <tr>\n",
       "      <th>15753.0</th>\n",
       "      <td>4590</td>\n",
       "      <td>1</td>\n",
       "      <td>0.55</td>\n",
       "    </tr>\n",
       "    <tr>\n",
       "      <th>17752.0</th>\n",
       "      <td>4645</td>\n",
       "      <td>1</td>\n",
       "      <td>0.42</td>\n",
       "    </tr>\n",
       "    <tr>\n",
       "      <th>13366.0</th>\n",
       "      <td>4336</td>\n",
       "      <td>1</td>\n",
       "      <td>0.39</td>\n",
       "    </tr>\n",
       "    <tr>\n",
       "      <th>15118.0</th>\n",
       "      <td>4420</td>\n",
       "      <td>1</td>\n",
       "      <td>0.17</td>\n",
       "    </tr>\n",
       "    <tr>\n",
       "      <th>13256.0</th>\n",
       "      <td>4300</td>\n",
       "      <td>1</td>\n",
       "      <td>0.00</td>\n",
       "    </tr>\n",
       "  </tbody>\n",
       "</table>\n",
       "<p>4372 rows × 3 columns</p>\n",
       "</div>"
      ],
      "text/plain": [
       "            Recency  Frequency  Monetary\n",
       "CustomerID                              \n",
       "14096.0        4290       5128  41376.33\n",
       "14911.0        4287       5903  31060.66\n",
       "17841.0        4287       7983  20333.18\n",
       "12748.0        4286       4642  15115.60\n",
       "14606.0        4287       2782   7839.02\n",
       "...             ...        ...       ...\n",
       "15753.0        4590          1      0.55\n",
       "17752.0        4645          1      0.42\n",
       "13366.0        4336          1      0.39\n",
       "15118.0        4420          1      0.17\n",
       "13256.0        4300          1      0.00\n",
       "\n",
       "[4372 rows x 3 columns]"
      ]
     },
     "execution_count": 20,
     "metadata": {},
     "output_type": "execute_result"
    }
   ],
   "source": [
    "X = rfm_data[['Recency', 'Frequency', 'Monetary']]\n",
    "X"
   ]
  },
  {
   "cell_type": "code",
   "execution_count": 21,
   "id": "5df0c948",
   "metadata": {},
   "outputs": [
    {
     "data": {
      "text/plain": [
       "CustomerID\n",
       "14096.0    49458.699357\n",
       "14911.0    42769.087003\n",
       "17841.0    37863.255409\n",
       "12748.0    16371.118805\n",
       "14606.0     5087.043070\n",
       "               ...     \n",
       "15753.0        0.000120\n",
       "17752.0        0.000090\n",
       "13366.0        0.000090\n",
       "15118.0        0.000038\n",
       "13256.0        0.000000\n",
       "Name: CLTV, Length: 4372, dtype: float64"
      ]
     },
     "execution_count": 21,
     "metadata": {},
     "output_type": "execute_result"
    }
   ],
   "source": [
    "y = rfm_data['CLTV']\n",
    "y"
   ]
  },
  {
   "cell_type": "markdown",
   "id": "984bf319",
   "metadata": {},
   "source": [
    "## Split the data into training and testing sets"
   ]
  },
  {
   "cell_type": "code",
   "execution_count": 22,
   "id": "bd475cbe",
   "metadata": {},
   "outputs": [],
   "source": [
    "from sklearn.model_selection import train_test_split"
   ]
  },
  {
   "cell_type": "code",
   "execution_count": 23,
   "id": "1c5c7b28",
   "metadata": {},
   "outputs": [],
   "source": [
    "X_train, X_test, y_train, y_test = train_test_split(X, y, test_size=0.2, random_state=42)"
   ]
  },
  {
   "cell_type": "code",
   "execution_count": 24,
   "id": "35bf6d32",
   "metadata": {},
   "outputs": [
    {
     "data": {
      "text/html": [
       "<div>\n",
       "<style scoped>\n",
       "    .dataframe tbody tr th:only-of-type {\n",
       "        vertical-align: middle;\n",
       "    }\n",
       "\n",
       "    .dataframe tbody tr th {\n",
       "        vertical-align: top;\n",
       "    }\n",
       "\n",
       "    .dataframe thead th {\n",
       "        text-align: right;\n",
       "    }\n",
       "</style>\n",
       "<table border=\"1\" class=\"dataframe\">\n",
       "  <thead>\n",
       "    <tr style=\"text-align: right;\">\n",
       "      <th></th>\n",
       "      <th>Recency</th>\n",
       "      <th>Frequency</th>\n",
       "      <th>Monetary</th>\n",
       "    </tr>\n",
       "    <tr>\n",
       "      <th>CustomerID</th>\n",
       "      <th></th>\n",
       "      <th></th>\n",
       "      <th></th>\n",
       "    </tr>\n",
       "  </thead>\n",
       "  <tbody>\n",
       "    <tr>\n",
       "      <th>16763.0</th>\n",
       "      <td>4471</td>\n",
       "      <td>24</td>\n",
       "      <td>124.30</td>\n",
       "    </tr>\n",
       "    <tr>\n",
       "      <th>15024.0</th>\n",
       "      <td>4295</td>\n",
       "      <td>155</td>\n",
       "      <td>438.10</td>\n",
       "    </tr>\n",
       "    <tr>\n",
       "      <th>15806.0</th>\n",
       "      <td>4332</td>\n",
       "      <td>31</td>\n",
       "      <td>62.13</td>\n",
       "    </tr>\n",
       "    <tr>\n",
       "      <th>14506.0</th>\n",
       "      <td>4303</td>\n",
       "      <td>316</td>\n",
       "      <td>1063.41</td>\n",
       "    </tr>\n",
       "    <tr>\n",
       "      <th>15881.0</th>\n",
       "      <td>4598</td>\n",
       "      <td>32</td>\n",
       "      <td>103.44</td>\n",
       "    </tr>\n",
       "    <tr>\n",
       "      <th>...</th>\n",
       "      <td>...</td>\n",
       "      <td>...</td>\n",
       "      <td>...</td>\n",
       "    </tr>\n",
       "    <tr>\n",
       "      <th>14434.0</th>\n",
       "      <td>4307</td>\n",
       "      <td>12</td>\n",
       "      <td>53.42</td>\n",
       "    </tr>\n",
       "    <tr>\n",
       "      <th>17651.0</th>\n",
       "      <td>4297</td>\n",
       "      <td>239</td>\n",
       "      <td>501.24</td>\n",
       "    </tr>\n",
       "    <tr>\n",
       "      <th>15010.0</th>\n",
       "      <td>4321</td>\n",
       "      <td>20</td>\n",
       "      <td>63.37</td>\n",
       "    </tr>\n",
       "    <tr>\n",
       "      <th>15692.0</th>\n",
       "      <td>4314</td>\n",
       "      <td>12</td>\n",
       "      <td>22.85</td>\n",
       "    </tr>\n",
       "    <tr>\n",
       "      <th>17722.0</th>\n",
       "      <td>4382</td>\n",
       "      <td>120</td>\n",
       "      <td>392.53</td>\n",
       "    </tr>\n",
       "  </tbody>\n",
       "</table>\n",
       "<p>3497 rows × 3 columns</p>\n",
       "</div>"
      ],
      "text/plain": [
       "            Recency  Frequency  Monetary\n",
       "CustomerID                              \n",
       "16763.0        4471         24    124.30\n",
       "15024.0        4295        155    438.10\n",
       "15806.0        4332         31     62.13\n",
       "14506.0        4303        316   1063.41\n",
       "15881.0        4598         32    103.44\n",
       "...             ...        ...       ...\n",
       "14434.0        4307         12     53.42\n",
       "17651.0        4297        239    501.24\n",
       "15010.0        4321         20     63.37\n",
       "15692.0        4314         12     22.85\n",
       "17722.0        4382        120    392.53\n",
       "\n",
       "[3497 rows x 3 columns]"
      ]
     },
     "execution_count": 24,
     "metadata": {},
     "output_type": "execute_result"
    }
   ],
   "source": [
    "X_train"
   ]
  },
  {
   "cell_type": "code",
   "execution_count": 25,
   "id": "11c350d8",
   "metadata": {},
   "outputs": [
    {
     "data": {
      "text/html": [
       "<div>\n",
       "<style scoped>\n",
       "    .dataframe tbody tr th:only-of-type {\n",
       "        vertical-align: middle;\n",
       "    }\n",
       "\n",
       "    .dataframe tbody tr th {\n",
       "        vertical-align: top;\n",
       "    }\n",
       "\n",
       "    .dataframe thead th {\n",
       "        text-align: right;\n",
       "    }\n",
       "</style>\n",
       "<table border=\"1\" class=\"dataframe\">\n",
       "  <thead>\n",
       "    <tr style=\"text-align: right;\">\n",
       "      <th></th>\n",
       "      <th>Recency</th>\n",
       "      <th>Frequency</th>\n",
       "      <th>Monetary</th>\n",
       "    </tr>\n",
       "    <tr>\n",
       "      <th>CustomerID</th>\n",
       "      <th></th>\n",
       "      <th></th>\n",
       "      <th></th>\n",
       "    </tr>\n",
       "  </thead>\n",
       "  <tbody>\n",
       "    <tr>\n",
       "      <th>13109.0</th>\n",
       "      <td>4288</td>\n",
       "      <td>50</td>\n",
       "      <td>135.24</td>\n",
       "    </tr>\n",
       "    <tr>\n",
       "      <th>16145.0</th>\n",
       "      <td>4294</td>\n",
       "      <td>237</td>\n",
       "      <td>518.48</td>\n",
       "    </tr>\n",
       "    <tr>\n",
       "      <th>17019.0</th>\n",
       "      <td>4297</td>\n",
       "      <td>234</td>\n",
       "      <td>496.70</td>\n",
       "    </tr>\n",
       "    <tr>\n",
       "      <th>12712.0</th>\n",
       "      <td>4308</td>\n",
       "      <td>142</td>\n",
       "      <td>939.13</td>\n",
       "    </tr>\n",
       "    <tr>\n",
       "      <th>15262.0</th>\n",
       "      <td>4609</td>\n",
       "      <td>10</td>\n",
       "      <td>32.95</td>\n",
       "    </tr>\n",
       "    <tr>\n",
       "      <th>...</th>\n",
       "      <td>...</td>\n",
       "      <td>...</td>\n",
       "      <td>...</td>\n",
       "    </tr>\n",
       "    <tr>\n",
       "      <th>12610.0</th>\n",
       "      <td>4308</td>\n",
       "      <td>111</td>\n",
       "      <td>545.77</td>\n",
       "    </tr>\n",
       "    <tr>\n",
       "      <th>14895.0</th>\n",
       "      <td>4293</td>\n",
       "      <td>506</td>\n",
       "      <td>2134.16</td>\n",
       "    </tr>\n",
       "    <tr>\n",
       "      <th>16107.0</th>\n",
       "      <td>4303</td>\n",
       "      <td>31</td>\n",
       "      <td>135.31</td>\n",
       "    </tr>\n",
       "    <tr>\n",
       "      <th>14064.0</th>\n",
       "      <td>4315</td>\n",
       "      <td>82</td>\n",
       "      <td>128.41</td>\n",
       "    </tr>\n",
       "    <tr>\n",
       "      <th>17720.0</th>\n",
       "      <td>4312</td>\n",
       "      <td>50</td>\n",
       "      <td>271.71</td>\n",
       "    </tr>\n",
       "  </tbody>\n",
       "</table>\n",
       "<p>875 rows × 3 columns</p>\n",
       "</div>"
      ],
      "text/plain": [
       "            Recency  Frequency  Monetary\n",
       "CustomerID                              \n",
       "13109.0        4288         50    135.24\n",
       "16145.0        4294        237    518.48\n",
       "17019.0        4297        234    496.70\n",
       "12712.0        4308        142    939.13\n",
       "15262.0        4609         10     32.95\n",
       "...             ...        ...       ...\n",
       "12610.0        4308        111    545.77\n",
       "14895.0        4293        506   2134.16\n",
       "16107.0        4303         31    135.31\n",
       "14064.0        4315         82    128.41\n",
       "17720.0        4312         50    271.71\n",
       "\n",
       "[875 rows x 3 columns]"
      ]
     },
     "execution_count": 25,
     "metadata": {},
     "output_type": "execute_result"
    }
   ],
   "source": [
    "X_test"
   ]
  },
  {
   "cell_type": "code",
   "execution_count": 26,
   "id": "ac479ec3",
   "metadata": {},
   "outputs": [
    {
     "data": {
      "text/plain": [
       "CustomerID\n",
       "16763.0     0.667233\n",
       "15024.0    15.810361\n",
       "15806.0     0.444605\n",
       "14506.0    78.093786\n",
       "15881.0     0.719896\n",
       "             ...    \n",
       "14434.0     0.148837\n",
       "17651.0    27.879069\n",
       "15010.0     0.293312\n",
       "15692.0     0.063561\n",
       "17722.0    10.749338\n",
       "Name: CLTV, Length: 3497, dtype: float64"
      ]
     },
     "execution_count": 26,
     "metadata": {},
     "output_type": "execute_result"
    }
   ],
   "source": [
    "y_train"
   ]
  },
  {
   "cell_type": "code",
   "execution_count": 27,
   "id": "cf2082fe",
   "metadata": {},
   "outputs": [
    {
     "data": {
      "text/plain": [
       "CustomerID\n",
       "13109.0      1.576959\n",
       "16145.0     28.616619\n",
       "17019.0     27.048592\n",
       "12712.0     30.955539\n",
       "15262.0      0.071491\n",
       "              ...    \n",
       "12610.0     14.062319\n",
       "14895.0    251.545530\n",
       "16107.0      0.974811\n",
       "14064.0      2.440236\n",
       "17720.0      3.150626\n",
       "Name: CLTV, Length: 875, dtype: float64"
      ]
     },
     "execution_count": 27,
     "metadata": {},
     "output_type": "execute_result"
    }
   ],
   "source": [
    "y_test"
   ]
  },
  {
   "cell_type": "markdown",
   "id": "32b11fe2",
   "metadata": {},
   "source": [
    "## Train a linear regression model"
   ]
  },
  {
   "cell_type": "code",
   "execution_count": 28,
   "id": "442569b4",
   "metadata": {},
   "outputs": [],
   "source": [
    "from sklearn.linear_model import LinearRegression"
   ]
  },
  {
   "cell_type": "code",
   "execution_count": 29,
   "id": "73dac6a0",
   "metadata": {},
   "outputs": [
    {
     "data": {
      "text/plain": [
       "LinearRegression()"
      ]
     },
     "execution_count": 29,
     "metadata": {},
     "output_type": "execute_result"
    }
   ],
   "source": [
    "model = LinearRegression()\n",
    "model"
   ]
  },
  {
   "cell_type": "code",
   "execution_count": 30,
   "id": "e998f84f",
   "metadata": {},
   "outputs": [
    {
     "data": {
      "text/plain": [
       "LinearRegression()"
      ]
     },
     "execution_count": 30,
     "metadata": {},
     "output_type": "execute_result"
    }
   ],
   "source": [
    "model.fit(X_train, y_train)"
   ]
  },
  {
   "cell_type": "markdown",
   "id": "0695d249",
   "metadata": {},
   "source": [
    "## Predict CLTV for test data"
   ]
  },
  {
   "cell_type": "code",
   "execution_count": 31,
   "id": "a0501cca",
   "metadata": {},
   "outputs": [
    {
     "data": {
      "text/plain": [
       "array([-2.66217450e+02,  4.67391785e+02,  4.55753037e+02,  2.95337273e+02,\n",
       "        4.83928163e+01,  2.52730661e+02,  6.52415145e+01, -1.91507481e+02,\n",
       "        8.79962162e+01, -3.86044412e+02, -2.72920806e+02, -2.37387047e+02,\n",
       "        1.70544321e+01,  1.02984690e+03,  1.09300560e+02, -1.50067406e+02,\n",
       "       -2.65292268e+02, -7.70344102e+01, -2.81779369e+02, -1.41180778e+02,\n",
       "       -2.34233891e+02,  1.07294901e+02, -2.73907905e+02, -1.08844766e+02,\n",
       "        1.04568914e+02,  2.13745986e+01,  7.56498017e+02, -7.12804764e+01,\n",
       "       -1.91858890e+02,  4.21462580e+03, -3.55124154e+01, -1.80581178e+02,\n",
       "       -2.08742236e+02, -3.67059897e+02, -2.14540948e+02, -1.90101533e+02,\n",
       "        4.36931246e+01, -2.55994903e-01,  1.20996468e+03, -1.23975166e+02,\n",
       "       -2.69067435e+02, -2.85455822e+02,  2.42652188e+02,  1.37765149e+02,\n",
       "       -2.35695296e+02,  1.03079815e+01,  8.79716798e+01, -1.89403317e+01,\n",
       "       -1.17336622e+01,  2.83609576e+02, -1.90588865e+02,  6.02042142e+01,\n",
       "       -1.45953132e+01, -1.09845236e+02,  1.96811709e+02, -1.77134639e+01,\n",
       "        1.09181982e+02, -1.42811458e+02, -3.31159664e+02,  1.58017322e+02,\n",
       "        1.92450304e+03,  1.17210649e+03, -9.26671560e+01,  6.62101263e+02,\n",
       "        1.30539457e+03, -2.65163917e+02,  4.04603371e+01, -1.31168365e+02,\n",
       "       -4.28174197e+02, -4.02553993e+02,  3.97232445e+02,  1.55144210e+02,\n",
       "        8.14709553e+01,  3.30810385e+02, -7.56709372e+01,  1.71387000e+02,\n",
       "        1.47057926e+02,  1.86896419e+02, -6.95035623e+01, -3.30912218e+02,\n",
       "       -1.40445820e+02, -2.77428324e+02, -3.99320918e+02,  1.07604520e+02,\n",
       "       -2.63415134e+02, -1.64367241e+02, -6.69383008e+01, -2.92403103e+02,\n",
       "       -2.70557570e+01,  2.38832531e+01,  2.25812586e+02,  3.85918096e+02,\n",
       "        2.30625241e+02,  1.44723496e+03, -3.75938755e+01,  1.27460085e+02,\n",
       "       -1.47311661e+02, -1.37094985e+01, -3.68851758e+02,  8.38612246e+02,\n",
       "       -2.23483942e+02,  5.40615221e+02, -2.18467936e+02, -3.04065093e+02,\n",
       "       -5.55781555e+01, -4.48269405e+02, -2.72999254e+02, -1.84010623e+02,\n",
       "        1.21441215e+00,  6.26565505e+02,  5.17634373e+01, -3.31708068e+02,\n",
       "        8.20097294e+02, -2.08246697e+02, -2.48046461e+02,  9.54354482e+01,\n",
       "       -2.58486427e+02,  4.19960695e+02,  1.15871987e+02, -1.57302773e+02,\n",
       "       -1.66101069e+02, -4.25140088e+02, -7.42828628e+01,  5.41372097e+01,\n",
       "       -2.84094242e+02,  9.56534338e+02, -3.35523625e+02, -2.83108796e+01,\n",
       "       -2.93907934e+02,  1.60519599e+02, -4.48018738e+02, -1.13377197e+02,\n",
       "        3.78167655e+02,  1.65421049e+02,  3.74344988e+01, -2.46410805e+02,\n",
       "       -2.43912512e+02, -1.49798589e+02,  5.22797947e+02, -1.25576375e+02,\n",
       "        2.36843539e+03, -3.10591833e+02,  6.23411373e+02,  1.40642707e+02,\n",
       "       -1.22249237e+02,  1.98469991e+00, -4.10538416e+02, -1.46957586e+02,\n",
       "       -1.35844200e+02, -2.27561368e+02, -1.69095408e+00,  3.93309619e+02,\n",
       "        2.51196367e+02,  6.39635335e+00,  5.26105312e+01, -1.95691831e+02,\n",
       "       -1.30467026e+02, -8.85087433e+01, -3.51275960e+00, -1.80025242e+02,\n",
       "       -2.42245214e+02, -3.42224711e+02,  1.41752452e+03, -1.78304859e+02,\n",
       "       -2.67719766e+02, -1.94197259e+02,  6.48997925e+02,  6.36616635e+02,\n",
       "        1.70031423e+02, -4.31583653e+02,  5.05631503e+02, -1.48436544e+02,\n",
       "        2.22405242e+03, -2.92010839e+02, -3.10265102e+02, -2.36974898e+02,\n",
       "       -3.97137054e+02, -3.29326370e+01, -1.21965245e+02,  4.58926877e+02,\n",
       "       -2.87321203e+02,  3.03428209e+02,  1.78932563e+03, -1.65529180e+01,\n",
       "        1.27660427e+03, -1.90694723e+02,  1.37190688e+02,  9.92679149e+00,\n",
       "       -3.59085893e+02,  1.18715344e+02, -2.60008123e+02, -1.08999343e+02,\n",
       "       -2.16889379e+02, -1.20714398e+02, -2.71880113e+02,  2.03825701e+02,\n",
       "       -1.11742622e+02,  7.24669140e+00,  4.53655992e+01, -6.43430984e+01,\n",
       "       -2.17657631e+02, -4.30930807e+02,  7.79703398e+01, -2.90300059e+02,\n",
       "        3.87341391e+01, -5.78318476e+01,  7.82925150e+01, -1.41278670e+02,\n",
       "       -2.06431992e+02,  1.02576476e+03, -2.79866623e+02,  1.80746376e+00,\n",
       "       -2.67553115e+01, -1.52142035e+02, -1.53243802e+01,  1.39544209e+02,\n",
       "       -2.69392298e+02,  6.41779782e+02,  2.58618825e+02, -2.57473405e+02,\n",
       "       -7.98564510e+01,  4.06647096e+02, -1.89279138e+02,  2.39106043e+02,\n",
       "        6.77790829e+02, -2.01163676e+02, -6.69753504e+01,  3.65187475e+01,\n",
       "        6.08717550e+01, -2.81658578e+02, -1.29282617e+02, -4.29813905e+01,\n",
       "       -4.03703602e+02,  1.00828808e+03, -1.30826144e+02,  1.90463278e+02,\n",
       "       -2.73990581e+02, -1.85372837e+02, -2.48338994e+02, -4.18280668e+02,\n",
       "        1.08579607e+02,  5.66953564e+02, -1.69679963e+02,  3.09946699e+01,\n",
       "       -2.92767392e+01, -1.90700717e+02, -1.34089931e+02,  1.50548398e+02,\n",
       "       -2.04017316e+02, -4.17440320e+02,  2.92851009e+02,  4.37076684e+02,\n",
       "       -3.52322312e+01, -1.65627781e+02, -1.82473647e+02, -3.17163678e+02,\n",
       "       -3.14440627e+02, -3.44302394e+02,  5.21190737e+01, -2.04953855e+02,\n",
       "       -3.07775536e+01,  5.35861871e+02,  1.99662540e+02,  1.09392756e+02,\n",
       "       -5.34448110e+01, -2.65977931e+02,  1.19845513e+01, -2.49396434e+01,\n",
       "       -2.37405206e+02,  1.99167926e+03, -1.52966488e+02, -1.77027718e+02,\n",
       "        1.86064872e+02,  5.77590961e+01, -6.64722015e+01, -3.16634559e+01,\n",
       "        1.19085036e+03, -5.11806361e+01,  4.77731669e+02, -2.17829788e+02,\n",
       "       -2.38900651e+01, -3.42459818e+02, -1.08926541e+02, -7.36369875e+01,\n",
       "        5.21411572e+00, -2.68965899e+02, -3.38169195e+02, -1.29723479e+01,\n",
       "       -2.64824931e+02,  5.26248763e+01, -2.23537149e+02,  1.01266441e+03,\n",
       "       -3.15230223e+02,  5.37200813e+01, -2.01687209e+01,  4.12572996e+02,\n",
       "        7.41276810e+00, -6.22058977e+01,  6.08007512e+03, -2.11230617e+02,\n",
       "       -2.56417446e+02,  2.57308328e+02, -3.61499588e+02, -8.43537187e+01,\n",
       "        1.63297083e+02,  7.02226661e+01, -9.35882509e+01,  2.68073413e+01,\n",
       "       -1.11537706e+02,  6.50652355e+02, -9.96721441e+01,  9.12588940e+01,\n",
       "       -8.60144797e+01,  2.36360018e+02, -2.17134848e+02,  9.99279788e+01,\n",
       "        8.28501651e+02,  2.35227999e+02,  5.31840440e+02, -1.36067958e+02,\n",
       "       -3.24799516e+02, -1.73838699e+02,  6.46377138e+02, -1.59308637e+02,\n",
       "        9.46862017e+01,  7.96490704e+02, -1.77666134e+02, -2.10209090e+02,\n",
       "       -3.33682976e+02, -3.76491073e+02,  1.22461271e+03, -2.51204260e+02,\n",
       "        2.02023394e+03, -9.24320554e+01, -3.42712155e+02,  7.67799252e+01,\n",
       "       -1.77492305e+02, -1.26484129e+02,  1.68495416e+02, -3.06754679e+01,\n",
       "       -6.86496831e+01, -3.81814003e+02, -2.86712052e+02, -5.96988608e+01,\n",
       "       -4.57117834e+02, -3.61228474e+01, -5.46463981e+01,  4.39332975e+02,\n",
       "       -9.96395099e+00, -2.39846983e+02, -2.16868508e+02,  1.83351372e+01,\n",
       "       -3.75063776e+02, -2.82890594e+02, -3.57698904e+02,  4.02557687e+03,\n",
       "       -1.15565499e+02,  1.35091169e+03, -2.48906716e+02,  1.07008002e+02,\n",
       "        3.44834748e+01, -3.48131720e+02,  6.53386544e+02, -4.53992207e+02,\n",
       "        2.47614172e+03, -1.03632143e+02, -2.26826665e+02, -3.65055772e+02,\n",
       "       -9.52433581e+01, -1.79319745e+02, -9.90046197e+01, -3.73892537e+02,\n",
       "       -3.23586691e+02, -1.91928928e+02, -1.97837665e+02,  5.17270603e+02,\n",
       "       -1.31299859e+02, -3.06766738e+01,  1.32669449e+03, -3.05414160e+02,\n",
       "       -1.54828671e+02, -1.46848554e+02, -1.83296684e+02, -2.79689342e+02,\n",
       "       -3.34710056e+02, -1.06041298e+02, -2.07361034e+02, -2.80615008e+02,\n",
       "       -1.37678353e+02,  5.72321438e+01, -2.42900702e+02,  1.24271024e+02,\n",
       "        4.03509399e+01, -2.02823130e+02,  1.18968091e+03,  2.79641848e+02,\n",
       "        9.80572176e+02, -2.63576636e+02,  3.79598609e+02, -1.21566986e+02,\n",
       "        1.24140289e+03, -1.88319315e+02, -1.14121045e+01, -2.72046874e+01,\n",
       "       -6.20622024e+01,  2.74708636e+02,  6.98255836e+02, -1.79129312e+01,\n",
       "       -5.64520719e+01, -1.78519997e+02, -3.76150158e+02, -2.77826551e+01,\n",
       "        1.73905035e+01,  2.49249713e+02,  3.43466864e+01, -8.39318648e+01,\n",
       "       -1.22288748e+02, -1.77609125e+02, -1.04464973e+02,  9.92471686e+02,\n",
       "       -1.53502754e+02, -1.88027012e+02,  6.70161239e+01, -1.80261255e+02,\n",
       "       -2.51972177e+02,  8.88068105e+02, -4.39497528e+02, -2.86251170e+02,\n",
       "       -2.85570146e+02,  6.19417040e+01, -2.90109176e+02, -2.94451489e+02,\n",
       "       -9.08112146e+01, -2.07182352e+02, -9.12770452e+01,  1.67472375e+02,\n",
       "       -3.02618217e+02,  8.11965940e+01,  1.32263678e+02,  6.82857077e+01,\n",
       "       -1.60837151e+01, -4.04920310e+01,  2.86127851e+03, -3.13388345e+02,\n",
       "        3.67573752e+02, -1.05072231e+02,  2.50089626e+02, -2.77554050e+02,\n",
       "       -2.46604709e+02, -4.01430463e+02, -5.73751795e+01, -1.35146753e+02,\n",
       "       -3.13494506e+02,  2.83265837e+02,  4.14347672e+01,  4.42770984e+02,\n",
       "       -4.56667676e+01,  7.39895268e+01, -1.45736022e+02,  1.07335653e+02,\n",
       "       -2.87593916e+02, -4.57425505e+02, -3.65598087e+01, -2.95547378e+02,\n",
       "       -2.98030062e+02, -3.32701794e+01,  2.83245345e+01,  1.83479958e+01,\n",
       "       -1.52035463e+02,  7.66978910e+02, -3.28723833e+02,  2.34938149e+02,\n",
       "       -1.77084195e+02, -2.00405684e+02, -3.00662658e+02, -9.80091029e+00,\n",
       "       -4.72712017e+01, -4.02385892e+02, -3.88584552e+02,  1.38780330e+02,\n",
       "       -2.86196051e+02,  1.55268666e+02, -4.16295882e+02, -2.97397628e+02,\n",
       "       -2.88193548e+02,  1.55123287e+03, -8.69465446e+01,  3.91892917e+02,\n",
       "       -2.71060663e+02,  1.44349467e+03, -3.39248501e+02,  6.03531060e+02,\n",
       "       -2.43891052e+02, -1.63136311e+02,  1.08286894e+02,  2.47082203e+02,\n",
       "       -3.30444109e+01,  2.36131843e+02, -3.56075732e+01, -3.39997096e+02,\n",
       "        1.63692844e+01,  8.38881383e+01,  8.26668903e+02, -3.09452077e+02,\n",
       "        6.27463282e+01, -2.11969381e+02,  2.10122808e+01,  2.92833161e+02,\n",
       "       -3.46616380e+02, -2.41629342e+02, -2.46028106e+02, -2.49560759e+02,\n",
       "       -2.97779830e+02,  1.54625456e+02, -3.02801229e+02, -1.02067250e+02,\n",
       "        1.60516848e+02, -4.18524126e+02, -9.18510974e+01,  7.03984310e+01,\n",
       "       -2.49183937e+02, -3.55642595e+01, -1.95579062e+02, -1.03681125e+02,\n",
       "       -1.22058943e+02,  2.63253372e+02, -3.92164077e+01,  7.89307782e+02,\n",
       "        7.75778601e+01,  7.60594135e+00,  1.63507670e+02, -4.10653009e+02,\n",
       "       -1.13425183e+02, -1.58523846e+01, -5.62770588e+01, -3.34469476e+02,\n",
       "        8.92075195e+01, -3.40964784e+02, -3.15732047e+02, -4.27144819e+02,\n",
       "       -1.83537249e+02, -3.02800949e+00, -1.15784676e+02, -1.90563109e+02,\n",
       "        1.04389572e+02, -1.29880278e+02,  4.42479340e+03,  2.54376457e+01,\n",
       "        7.96701555e+00,  3.10354319e+01,  6.31201492e+02, -3.70854864e+02,\n",
       "       -2.69697146e+02,  1.91715509e+02, -2.51601222e+02, -3.13822044e+02,\n",
       "       -4.44786153e+01,  2.91046234e+02,  1.41488940e+01,  5.25436300e+02,\n",
       "       -3.09394950e+01, -1.74174959e+02, -3.45981494e+02, -1.91854893e+02,\n",
       "       -2.09093241e+02, -3.94840009e+02, -2.61064870e+02,  1.33880437e+02,\n",
       "        3.79846081e+02,  3.46989861e+02, -1.20080320e+01, -3.26133196e+02,\n",
       "        1.48961320e+02, -9.17660914e+01, -1.46329211e+02, -1.39762320e+02,\n",
       "       -2.15800715e+02, -1.30344033e+02, -4.54093586e+01,  1.24896025e+02,\n",
       "       -2.60592634e+02,  1.26821490e+02, -3.83848702e+02, -3.30497468e+02,\n",
       "        4.21445220e+02, -1.92529606e+02, -4.25431117e+01,  6.55909239e+00,\n",
       "       -4.36064632e+02, -9.65750479e+01,  7.31350824e+01,  1.31671059e+02,\n",
       "       -1.83788039e+01,  1.52061676e+02, -3.63660311e+02, -2.17662564e+02,\n",
       "       -8.62707029e+01,  4.51432463e+01, -2.59492150e+02, -2.51839067e+02,\n",
       "       -2.77199370e+02, -2.91879904e+01, -1.70737321e+02, -3.20411156e+02,\n",
       "        5.31561346e+02, -2.23452408e+02,  4.47693130e+01, -8.68264438e+01,\n",
       "       -2.56581212e+02, -2.02216574e+02, -3.35603109e+02,  9.20657768e+01,\n",
       "       -5.96148561e+01, -3.64129430e+02, -1.96268462e+02, -2.86346313e+02,\n",
       "        3.25059021e+03, -3.08359679e+02,  2.35883946e+01, -2.57263563e+02,\n",
       "       -8.57185782e+01, -4.32414413e+02, -3.25792563e+02, -4.29981690e+02,\n",
       "        1.32247947e+01, -3.81164125e+02, -5.64473532e+01, -2.32874490e+02,\n",
       "        7.43858754e+02,  2.00035134e+02, -1.68238282e+02,  4.19889051e+02,\n",
       "        1.04462336e+03,  1.96522282e+02,  9.49209358e+01, -1.11042401e+02,\n",
       "       -2.03102997e+02, -4.61286299e+01, -1.56833044e+02, -3.18827026e+02,\n",
       "       -2.63280347e+02, -1.44177064e+02, -4.08914538e+02,  2.44294226e+01,\n",
       "        8.55614460e+01,  1.17990222e+02, -1.72467056e+02,  2.26231211e+03,\n",
       "       -7.16459514e+01, -1.35052445e+02, -2.08241381e+02, -3.48913769e+02,\n",
       "        1.17160066e+01,  1.55438152e+02, -4.00194980e+02, -3.49902155e+02,\n",
       "       -1.77694481e+02,  1.04005006e+03, -2.90207989e+02, -2.93196736e+02,\n",
       "       -2.09172334e+00, -3.66043320e+02,  1.24092831e+02, -3.24304522e+02,\n",
       "       -1.11816614e+02,  4.60358802e+02, -8.96526555e+01, -1.10878286e+02,\n",
       "        5.98175636e+01,  1.25818424e+02, -4.23969085e+02, -6.36821084e+01,\n",
       "        2.68386100e+02, -1.91842440e+02, -5.25696057e+01, -3.77700495e+02,\n",
       "       -3.68691663e+01, -4.22345538e+01, -3.33027887e+02,  1.33355528e+02,\n",
       "        1.62571395e+03, -3.94990180e+01,  2.13314468e+02,  2.72803293e+02,\n",
       "       -1.73327890e+02, -1.52273819e+02,  7.63287278e+01,  1.54931467e+02,\n",
       "        3.45108313e+02,  1.22371508e+02, -3.31532252e+02,  1.09666094e+02,\n",
       "       -1.80618234e+00,  4.44423350e+01,  4.47147112e+02, -6.78021859e+01,\n",
       "       -3.29721205e+02,  1.56842723e+02, -7.44905405e+01,  1.23983211e+02,\n",
       "        2.97215383e+00, -9.50825405e+01, -8.58174748e+01,  9.67587607e+01,\n",
       "        7.89257779e+00, -3.10544207e+02,  5.88031340e+01, -2.36384616e+02,\n",
       "        1.11064304e+03,  1.16663271e+02,  1.06473436e+03,  1.11582032e+02,\n",
       "       -2.07608870e+02, -1.87056792e+02, -3.45572627e+02, -4.43296387e+02,\n",
       "        2.20228460e+02, -1.50590802e+02, -3.98893538e+02, -1.55388173e+02,\n",
       "       -3.75998765e+02, -3.25074544e+02, -1.33444871e+02, -3.40787111e+02,\n",
       "       -3.50566692e+01, -2.90176486e+02, -2.83738937e+02, -2.93187977e+02,\n",
       "        2.49026713e+02,  2.31200791e+02, -1.30596627e+02,  3.13122394e+02,\n",
       "       -4.02106591e+02,  1.03426031e+03, -3.56333154e+02, -1.54018238e+02,\n",
       "       -1.90083825e+02,  3.46072198e+01, -3.71511172e+02,  6.91143415e+02,\n",
       "       -2.18983453e+02,  1.49848185e+03, -1.16261613e+02,  8.94084906e+02,\n",
       "       -4.37682075e+02,  8.27916641e+01, -2.30721790e+02,  1.04898083e+02,\n",
       "        4.70805269e+01, -1.53475647e+02,  5.34227198e+01,  5.69961406e+01,\n",
       "       -2.84552120e+02, -2.26061424e+02,  3.92306353e+02, -3.46899594e+01,\n",
       "       -9.47639411e+00, -3.55309702e+02, -2.47159806e+02, -3.88535819e+02,\n",
       "        2.61300863e+03,  6.46661122e+01,  1.05475695e+01, -2.83465850e+02,\n",
       "       -4.97093508e+01,  1.14903234e+03, -2.35266227e+02,  2.32079980e+02,\n",
       "       -1.81012719e+02,  6.60209963e+01, -1.03464059e+02,  1.43154244e+02,\n",
       "       -2.85620425e+02, -2.34637745e+02,  1.67351724e+03,  4.23181040e+02,\n",
       "       -3.68674686e+01, -2.39027228e+02, -1.62945308e+02, -1.17647842e+02,\n",
       "        3.34075993e+03, -5.44961746e+00, -4.51295992e+01,  2.71624192e+01,\n",
       "        2.15315861e+03,  5.87442324e+02, -2.19045561e+02, -1.98916634e+02,\n",
       "        4.36676035e+02, -2.87641580e+02, -5.45528017e+01, -3.58318599e+02,\n",
       "        1.80148890e+02, -2.91782201e+02, -3.79156517e+02, -3.36134314e+01,\n",
       "        4.06106714e+03, -1.92766934e+02, -3.97013841e+02,  7.49271912e+02,\n",
       "        7.56354381e+02, -1.37663833e+02, -3.30876040e+02, -2.10080966e+02,\n",
       "       -2.19219697e+01, -4.47701630e+02, -2.85151392e+02, -4.31141110e+02,\n",
       "        1.49449397e+02,  6.60856206e+02, -3.18522134e+02, -1.02664760e+02,\n",
       "        4.50196738e+02, -4.85738857e+01, -2.43903576e+02,  3.76095498e+01,\n",
       "        7.52904934e+01, -2.87725332e+01, -2.96997737e+02,  2.52970571e+02,\n",
       "        2.45374732e+02,  1.30057910e+03, -6.28443475e+01, -1.31444589e+02,\n",
       "        1.96678391e+03,  7.34670156e+02, -2.73035444e+01,  1.22847553e+02,\n",
       "        6.45616129e+01, -2.03920251e+02,  5.19963216e+02, -2.15421616e+02,\n",
       "       -1.02319712e+02, -4.01011983e+01, -3.66442874e+02,  2.33339529e+02,\n",
       "       -2.74533040e+02, -3.05062888e+02,  2.54012776e+02, -2.53299914e+02,\n",
       "       -1.39285775e+02,  6.00870784e+01, -6.63048262e+01, -9.06971202e+01,\n",
       "        8.54042095e+02,  1.00402534e+02, -1.76360706e+02, -2.84041080e+02,\n",
       "       -1.66096471e+02,  2.89775931e+02, -3.50806639e+02,  1.88313060e+02,\n",
       "       -1.40404322e+02, -2.89829251e+02,  1.51165901e+02, -1.65035469e+01,\n",
       "        7.37700295e+02, -3.36681953e+02, -1.56963799e+02,  6.19336151e+01,\n",
       "       -3.53690252e+02, -1.30203068e+02, -1.78156800e+01, -2.34063545e+02,\n",
       "       -2.81620435e+02,  8.97138284e+02,  1.92868485e+01, -1.06567217e+01,\n",
       "       -3.27246170e+02, -2.10399684e+02,  8.11884317e+01,  1.81179835e+03,\n",
       "       -3.06518168e+02, -1.22850653e+02, -1.91775288e+02])"
      ]
     },
     "execution_count": 31,
     "metadata": {},
     "output_type": "execute_result"
    }
   ],
   "source": [
    "y_pred = model.predict(X_test)\n",
    "y_pred"
   ]
  },
  {
   "cell_type": "markdown",
   "id": "62ba6936",
   "metadata": {},
   "source": [
    "## Evaluate the model"
   ]
  },
  {
   "cell_type": "code",
   "execution_count": 32,
   "id": "fde7b697",
   "metadata": {},
   "outputs": [],
   "source": [
    "from sklearn.metrics import mean_squared_error, mean_absolute_error"
   ]
  },
  {
   "cell_type": "code",
   "execution_count": 33,
   "id": "ed6182d4",
   "metadata": {},
   "outputs": [
    {
     "name": "stdout",
     "output_type": "stream",
     "text": [
      "Mean Squared Error: 254145.16832050553\n"
     ]
    }
   ],
   "source": [
    "mse = mean_squared_error(y_test, y_pred)\n",
    "print(f'Mean Squared Error: {mse}')"
   ]
  },
  {
   "cell_type": "code",
   "execution_count": 34,
   "id": "22db4bda",
   "metadata": {},
   "outputs": [
    {
     "name": "stdout",
     "output_type": "stream",
     "text": [
      "Mean Absolute Error: 291.22515474735565\n"
     ]
    }
   ],
   "source": [
    "mae = mean_absolute_error(y_test, y_pred)\n",
    "print(f'Mean Absolute Error: {mae}')"
   ]
  },
  {
   "cell_type": "code",
   "execution_count": null,
   "id": "c979aa64",
   "metadata": {},
   "outputs": [],
   "source": []
  }
 ],
 "metadata": {
  "kernelspec": {
   "display_name": "Python 3 (ipykernel)",
   "language": "python",
   "name": "python3"
  },
  "language_info": {
   "codemirror_mode": {
    "name": "ipython",
    "version": 3
   },
   "file_extension": ".py",
   "mimetype": "text/x-python",
   "name": "python",
   "nbconvert_exporter": "python",
   "pygments_lexer": "ipython3",
   "version": "3.9.12"
  }
 },
 "nbformat": 4,
 "nbformat_minor": 5
}
